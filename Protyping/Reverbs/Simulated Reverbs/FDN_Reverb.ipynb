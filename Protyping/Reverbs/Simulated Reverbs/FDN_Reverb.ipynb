{
 "cells": [
  {
   "cell_type": "code",
   "execution_count": 1,
   "metadata": {
    "metadata": {}
   },
   "outputs": [
    {
     "name": "stdout",
     "output_type": "stream",
     "text": [
      "Min Value: -0.9484677314758301\n",
      "Max Value: 0.9998999834060669\n"
     ]
    }
   ],
   "source": [
    "from scipy.io import wavfile\n",
    "import numpy as np\n",
    "import sounddevice as sd\n",
    "import matplotlib.pyplot as plt\n",
    "from scipy import signal\n",
    "from scipy.fft import fftshift, fft, ifft\n",
    "import soundfile as sf\n",
    "from scipy.signal import hann\n",
    "from CircularBuffer import CircularBuffer, StereoDelay\n",
    "\n",
    "fs = 48000\n",
    "#KYW inst\n",
    "fs, data = wavfile.read('/Users/kevinbrennan/Desktop/Final_Project/Music-Technology-Final-Project/Sound Examples/KYW Inst.wav')\n",
    "#ATF Drums\n",
    "#fs, data = wavfile.read('/Users/kevinbrennan/Desktop/Final_Project/Music-Technology-Final-Project/Sound Examples/Around the fur drums.wav')\n",
    "\n",
    "#Impulse Signal\n",
    "#data = np.zeros(fs)\n",
    "#data[0] = 1\n",
    "\n",
    "\n",
    "# Get the bit depth of the audio data (assumes audio_data is a NumPy array)\n",
    "bit_depth = data.dtype.itemsize * 8\n",
    "\n",
    "\n",
    "# Calculate the scaling factor for normalization\n",
    "scaling_factor = 2 ** (bit_depth - 1)  # For signed audio\n",
    "\n",
    "# Convert audio data to floating-point values and normalize\n",
    "data = data.astype(np.float32) / scaling_factor\n",
    "\n",
    "# Verify that the data is now in the range -1 to 1\n",
    "print(f\"Min Value: {np.min(data)}\")\n",
    "print(f\"Max Value: {np.max(data)}\")"
   ]
  },
  {
   "cell_type": "code",
   "execution_count": 2,
   "metadata": {
    "metadata": {}
   },
   "outputs": [],
   "source": [
    "delay_amts = [0.02, 0.03, 0.025]\n",
    "\n",
    "dry_amt = 0.4\n",
    "\n",
    "#Decay factor\n",
    "gamma = 0.9\n",
    "\n",
    "# b, c and k gains\n",
    "b = [0.8, 0.9, 1]\n",
    "c = [0.7, 0.8, 0.9]\n",
    "k = [0.6, 0.7, 0.8]\n",
    "\n",
    "# Feedback matrix\n",
    "fdn_Matrix = [[-0.3, 0.5, -0.7], \n",
    "              [0.4, -0.1, 0.6], \n",
    "              [-0.2, 0.3, -0.5]]\n",
    "\n",
    "\n",
    "delayLines = []\n",
    "for i in range(len(delay_amts)):\n",
    "    delayLines.append(StereoDelay(delay_amts[i] * fs, delay_amts[i] * fs))\n",
    "\n",
    "output = np.zeros((len(data), 2))\n",
    "for i in range(len(data)):\n",
    "    wet_out = [0,0]\n",
    "    for d in range(len(delayLines)):\n",
    "        #Retrieve delayed samples\n",
    "        temp = delayLines[d].get_samples_from_buffer()\n",
    "        # k gain\n",
    "        delayedL = temp[0] * k[d]\n",
    "        delayedR = temp[1] * k[d]\n",
    "\n",
    "        fdbkL = fdn_Matrix * np.array(delayedL)\n",
    "        fdbkR = fdn_Matrix * np.array(delayedR)\n",
    "\n",
    "        tempL = 0\n",
    "        tempR = 0\n",
    "        for t in range(len(delayLines)):\n",
    "            tempL += fdbkL[d,t]\n",
    "            tempR += fdbkR[d,t]\n",
    "        \n",
    "        lineFdbk = [tempL, tempR]\n",
    "\n",
    "        delayLines[d].push_samples_to_buffer(lineFdbk + (b[d] * data[i]))\n",
    "\n",
    "        wet_out += np.multiply(c[d], [delayedL, delayedR])   \n",
    "\n",
    "    output[i] = (dry_amt * data[i]) + ((1-dry_amt) * wet_out)\n",
    "\n",
    "#Normalisation\n",
    "max_amplitude = np.max(np.abs(output))\n",
    "normalized_audio = output / max_amplitude"
   ]
  },
  {
   "cell_type": "code",
   "execution_count": 3,
   "metadata": {
    "metadata": {}
   },
   "outputs": [],
   "source": [
    "sd.play(normalized_audio, fs)"
   ]
  },
  {
   "cell_type": "markdown",
   "metadata": {},
   "source": [
    "# Impulse Response of system"
   ]
  },
  {
   "cell_type": "code",
   "execution_count": 35,
   "metadata": {},
   "outputs": [
    {
     "name": "stderr",
     "output_type": "stream",
     "text": [
      "/var/folders/wl/6gyc0yz53snb8mbsbvf6rnh80000gn/T/ipykernel_58004/2450523449.py:2: DeprecationWarning: Importing hann from 'scipy.signal' is deprecated and will raise an error in SciPy 1.13.0. Please use 'scipy.signal.windows.hann' or the convenience function 'scipy.signal.get_window' instead.\n",
      "  window = hann(len(data))\n"
     ]
    },
    {
     "data": {
      "text/plain": [
       "[<matplotlib.lines.Line2D at 0x13f9ef7f0>]"
      ]
     },
     "execution_count": 35,
     "metadata": {},
     "output_type": "execute_result"
    },
    {
     "data": {
      "image/png": "[encoded data removed]",
      "text/plain": [
       "<Figure size 640x480 with 1 Axes>"
      ]
     },
     "metadata": {},
     "output_type": "display_data"
    }
   ],
   "source": [
    "# Apply windowing\n",
    "window = hann(len(data))\n",
    "original_signal = data[:,0] * window\n",
    "filtered_signal = normalized_audio[:,0] * window\n",
    "\n",
    "original_spectrum = fft(original_signal)\n",
    "filtered_spectrum = fft(filtered_signal)\n",
    "\n",
    "epsilon = 1e-10\n",
    "\n",
    "impulse_response_spectrum = filtered_spectrum/(original_spectrum + epsilon)\n",
    "\n",
    "impulse_response = np.real(ifft(impulse_response_spectrum))\n",
    "\n",
    "plt.plot(impulse_response[0:50000])"
   ]
  },
  {
   "cell_type": "code",
   "execution_count": 14,
   "metadata": {},
   "outputs": [],
   "source": [
    "#Write to wav file\n",
    "#sf.write('FDN.wav', normalized_audio, fs,)"
   ]
  }
 ],
 "metadata": {
  "kernelspec": {
   "display_name": "Python 3",
   "language": "python",
   "name": "python3"
  },
  "language_info": {
   "codemirror_mode": {
    "name": "ipython",
    "version": 3
   },
   "file_extension": ".py",
   "mimetype": "text/x-python",
   "name": "python",
   "nbconvert_exporter": "python",
   "pygments_lexer": "ipython3",
   "version": "3.10.7"
  }
 },
 "nbformat": 4,
 "nbformat_minor": 2
}
