{
 "cells": [
  {
   "cell_type": "code",
   "execution_count": 1,
   "metadata": {},
   "outputs": [
    {
     "name": "stdout",
     "output_type": "stream",
     "text": [
      "Min Value: -0.9484677314758301\n",
      "Max Value: 0.9998999834060669\n"
     ]
    }
   ],
   "source": [
    "from scipy.io import wavfile\n",
    "import numpy as np\n",
    "import sounddevice as sd\n",
    "import matplotlib.pyplot as plt\n",
    "from scipy import signal\n",
    "from scipy.fft import fftshift, fft, ifft\n",
    "import soundfile as sf\n",
    "from scipy.signal import hann\n",
    "from CircularBuffer import CircularBuffer, StereoDelay\n",
    "\n",
    "\n",
    "#KYW inst\n",
    "fs, data = wavfile.read('/Users/kevinbrennan/Desktop/Final_Project/Music-Technology-Final-Project/Sound Examples/KYW Inst.wav')\n",
    "#ATF Drums\n",
    "#fs, data = wavfile.read('/Users/kevinbrennan/Desktop/Final_Project/Music-Technology-Final-Project/Sound Examples/Around the fur drums.wav')\n",
    "\n",
    "# Get the bit depth of the audio data (assumes audio_data is a NumPy array)\n",
    "bit_depth = data.dtype.itemsize * 8\n",
    "\n",
    "# Calculate the scaling factor for normalization\n",
    "scaling_factor = 2 ** (bit_depth - 1)  # For signed audio\n",
    "\n",
    "# Convert audio data to floating-point values and normalize\n",
    "data = data.astype(np.float32) / scaling_factor\n",
    "\n",
    "# Verify that the data is now in the range -1 to 1\n",
    "print(f\"Min Value: {np.min(data)}\")\n",
    "print(f\"Max Value: {np.max(data)}\")"
   ]
  },
  {
   "cell_type": "markdown",
   "metadata": {},
   "source": [
    "## Delaying allpass filter reverberator"
   ]
  },
  {
   "cell_type": "code",
   "execution_count": 2,
   "metadata": {},
   "outputs": [],
   "source": [
    "#Implementation from pirkles book\n",
    "\n",
    "delayTime = 0.07\n",
    "delaySamples = delayTime * fs\n",
    "\n",
    "g = 0.6\n",
    "\n",
    "delayLine = StereoDelay(delaySamples, delaySamples)\n",
    "\n",
    "output = np.zeros((len(data), 2))\n",
    "\n",
    "for i in range(len(data)):\n",
    "    delayed = delayLine.get_samples_from_buffer()\n",
    "\n",
    "    delayLine.push_samples_to_buffer(data[i] + np.multiply(delayed, g))\n",
    "\n",
    "    output[i] = (-g * data[i]) + np.multiply((1 - pow(g,2)), delayed)\n",
    "\n",
    "\n",
    "#Normalisation\n",
    "max_amplitude = np.max(np.abs(output))\n",
    "normalized_audio = output / max_amplitude\n"
   ]
  },
  {
   "cell_type": "code",
   "execution_count": 3,
   "metadata": {},
   "outputs": [],
   "source": [
    "sd.play(normalized_audio, fs)"
   ]
  },
  {
   "cell_type": "markdown",
   "metadata": {},
   "source": [
    "## Impulse response of system"
   ]
  },
  {
   "cell_type": "code",
   "execution_count": 24,
   "metadata": {},
   "outputs": [
    {
     "name": "stderr",
     "output_type": "stream",
     "text": [
      "/var/folders/wl/6gyc0yz53snb8mbsbvf6rnh80000gn/T/ipykernel_46663/2450523449.py:2: DeprecationWarning: Importing hann from 'scipy.signal' is deprecated and will raise an error in SciPy 1.13.0. Please use 'scipy.signal.windows.hann' or the convenience function 'scipy.signal.get_window' instead.\n",
      "  window = hann(len(data))\n"
     ]
    },
    {
     "data": {
      "text/plain": [
       "[<matplotlib.lines.Line2D at 0x135488fa0>]"
      ]
     },
     "execution_count": 24,
     "metadata": {},
     "output_type": "execute_result"
    },
    {
     "data": {
      "image/png": "[encoded data removed]",
      "text/plain": [
       "<Figure size 640x480 with 1 Axes>"
      ]
     },
     "metadata": {},
     "output_type": "display_data"
    }
   ],
   "source": [
    "# Apply windowing\n",
    "window = hann(len(data))\n",
    "original_signal = data[:,0] * window\n",
    "filtered_signal = normalized_audio[:,0] * window\n",
    "\n",
    "original_spectrum = fft(original_signal)\n",
    "filtered_spectrum = fft(filtered_signal)\n",
    "\n",
    "epsilon = 1e-10\n",
    "\n",
    "impulse_response_spectrum = filtered_spectrum/(original_spectrum + epsilon)\n",
    "\n",
    "impulse_response = np.real(ifft(impulse_response_spectrum))\n",
    "\n",
    "plt.plot(impulse_response[0:50000])"
   ]
  },
  {
   "cell_type": "markdown",
   "metadata": {},
   "source": [
    "## Convolving data with the impulse response\n",
    "Exact same result, but much less computationally efficient"
   ]
  },
  {
   "cell_type": "code",
   "execution_count": 28,
   "metadata": {},
   "outputs": [],
   "source": [
    "impulse_response_conv = impulse_response[0:40000]\n",
    "\n",
    "ex_L = np.convolve(data[:,0], impulse_response)\n",
    "ex_R = np.convolve(data[:,1], impulse_response)"
   ]
  },
  {
   "cell_type": "code",
   "execution_count": 29,
   "metadata": {},
   "outputs": [],
   "source": [
    "output_conv = np.vstack((ex_L, ex_R))\n",
    "output_conv = output_conv.T"
   ]
  },
  {
   "cell_type": "code",
   "execution_count": 33,
   "metadata": {},
   "outputs": [],
   "source": [
    "sd.play(output_conv)"
   ]
  }
 ],
 "metadata": {
  "kernelspec": {
   "display_name": "Python 3",
   "language": "python",
   "name": "python3"
  },
  "language_info": {
   "codemirror_mode": {
    "name": "ipython",
    "version": 3
   },
   "file_extension": ".py",
   "mimetype": "text/x-python",
   "name": "python",
   "nbconvert_exporter": "python",
   "pygments_lexer": "ipython3",
   "version": "3.10.7"
  }
 },
 "nbformat": 4,
 "nbformat_minor": 2
}
