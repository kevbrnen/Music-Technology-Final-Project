{
 "cells": [
  {
   "cell_type": "code",
   "execution_count": 1,
   "metadata": {},
   "outputs": [
    {
     "name": "stdout",
     "output_type": "stream",
     "text": [
      "Min Value: -0.9484677314758301\n",
      "Max Value: 0.9998999834060669\n"
     ]
    }
   ],
   "source": [
    "from scipy.io import wavfile\n",
    "import numpy as np\n",
    "import sounddevice as sd\n",
    "import matplotlib.pyplot as plt\n",
    "from scipy import signal\n",
    "from scipy.fft import fftshift, fft, ifft\n",
    "import soundfile as sf\n",
    "from scipy.signal import hann\n",
    "from CircularBuffer import CircularBuffer, StereoDelay\n",
    "\n",
    "\n",
    "#KYW inst\n",
    "fs, data = wavfile.read('/Users/kevinbrennan/Desktop/Final_Project/Music-Technology-Final-Project/Sound Examples/KYW Inst.wav')\n",
    "#ATF Drums\n",
    "#fs, data = wavfile.read('/Users/kevinbrennan/Desktop/Final_Project/Music-Technology-Final-Project/Sound Examples/Around the fur drums.wav')\n",
    "\n",
    "# Get the bit depth of the audio data (assumes audio_data is a NumPy array)\n",
    "bit_depth = data.dtype.itemsize * 8\n",
    "\n",
    "# Calculate the scaling factor for normalization\n",
    "scaling_factor = 2 ** (bit_depth - 1)  # For signed audio\n",
    "\n",
    "# Convert audio data to floating-point values and normalize\n",
    "data = data.astype(np.float32) / scaling_factor\n",
    "\n",
    "# Verify that the data is now in the range -1 to 1\n",
    "print(f\"Min Value: {np.min(data)}\")\n",
    "print(f\"Max Value: {np.max(data)}\")"
   ]
  },
  {
   "cell_type": "code",
   "execution_count": 2,
   "metadata": {},
   "outputs": [],
   "source": [
    "#Comb filters\n",
    "N = 4\n",
    "parallel_delayLines = [None] * N\n",
    "gains = [0.6, 0.4, 0.3, 0.2]\n",
    "delays = [2191, 2971, 3253, 3307]\n",
    "output_comb = np.zeros((len(data), 2))\n",
    "\n",
    "# APF 1\n",
    "delayTime1 = 0.001\n",
    "delaySamples1 = delayTime1 * fs\n",
    "g1 = 0.6\n",
    "delayLine1 = StereoDelay(delaySamples1, delaySamples1)\n",
    "output_apf1 = np.zeros((len(data), 2))\n",
    "\n",
    "# APF 2\n",
    "delayTime2 = 0.005\n",
    "delaySamples2 = delayTime2 * fs\n",
    "g2 = 0.6\n",
    "delayLine2 = StereoDelay(delaySamples2, delaySamples2)\n",
    "output_apf2 = np.zeros((len(data), 2))\n",
    "\n",
    "\n",
    "# initialise delay lines\n",
    "for i in range(N):\n",
    "    parallel_delayLines[i] = StereoDelay((delays[i]), (delays[i]))\n",
    "\n",
    "\n",
    "\n",
    "for j in range(N):\n",
    "    for i in range(len(data)):\n",
    "        #Comb Filter\n",
    "        delayed = 0\n",
    "\n",
    "        delayed = parallel_delayLines[j].get_samples_from_buffer()\n",
    "\n",
    "        output_comb[i] += delayed\n",
    "\n",
    "        delayed = np.multiply(delayed, gains[j])\n",
    "\n",
    "        parallel_delayLines[j].push_samples_to_buffer(delayed + data[i])\n",
    "\n",
    "\n",
    "for i in range(len(data)):\n",
    "    #APF1\n",
    "    delayed1 = delayLine1.get_samples_from_buffer()\n",
    "\n",
    "    delayLine1.push_samples_to_buffer(output_comb[i] + np.multiply(delayed1, g1))\n",
    "\n",
    "    output_apf1[i] = (-g1 * output_comb[i]) + np.multiply((1 - pow(g1,2)), delayed1)\n",
    "\n",
    "\n",
    "    #APF2\n",
    "    delayed2 = delayLine2.get_samples_from_buffer()\n",
    "\n",
    "    delayLine2.push_samples_to_buffer(output_apf1[i] + np.multiply(delayed2, g2))\n",
    "\n",
    "    output_apf2[i] = (-g2 * output_apf1[i]) + np.multiply((1 - pow(g2,2)), delayed2)\n"
   ]
  },
  {
   "cell_type": "code",
   "execution_count": 3,
   "metadata": {},
   "outputs": [],
   "source": [
    "#Normalisation\n",
    "max_amplitude = np.max(np.abs(output_apf2))\n",
    "normalized_audio = output_apf2 / max_amplitude"
   ]
  },
  {
   "cell_type": "code",
   "execution_count": 4,
   "metadata": {},
   "outputs": [],
   "source": [
    "sd.play(normalized_audio, fs)"
   ]
  },
  {
   "cell_type": "markdown",
   "metadata": {},
   "source": [
    "## Impulse Response of System"
   ]
  },
  {
   "cell_type": "code",
   "execution_count": 7,
   "metadata": {},
   "outputs": [
    {
     "name": "stderr",
     "output_type": "stream",
     "text": [
      "/var/folders/wl/6gyc0yz53snb8mbsbvf6rnh80000gn/T/ipykernel_92571/2450523449.py:2: DeprecationWarning: Importing hann from 'scipy.signal' is deprecated and will raise an error in SciPy 1.13.0. Please use 'scipy.signal.windows.hann' or the convenience function 'scipy.signal.get_window' instead.\n",
      "  window = hann(len(data))\n"
     ]
    },
    {
     "data": {
      "text/plain": [
       "[<matplotlib.lines.Line2D at 0x1398ad510>]"
      ]
     },
     "execution_count": 7,
     "metadata": {},
     "output_type": "execute_result"
    },
    {
     "data": {
      "image/png": "[encoded data removed]",
      "text/plain": [
       "<Figure size 640x480 with 1 Axes>"
      ]
     },
     "metadata": {},
     "output_type": "display_data"
    }
   ],
   "source": [
    "# Apply windowing\n",
    "window = hann(len(data))\n",
    "original_signal = data[:,0] * window\n",
    "filtered_signal = normalized_audio[:,0] * window\n",
    "\n",
    "original_spectrum = fft(original_signal)\n",
    "filtered_spectrum = fft(filtered_signal)\n",
    "\n",
    "epsilon = 1e-10\n",
    "\n",
    "impulse_response_spectrum = filtered_spectrum/(original_spectrum + epsilon)\n",
    "\n",
    "impulse_response = np.real(ifft(impulse_response_spectrum))\n",
    "\n",
    "plt.plot(impulse_response[0:50000])"
   ]
  }
 ],
 "metadata": {
  "kernelspec": {
   "display_name": "Python 3",
   "language": "python",
   "name": "python3"
  },
  "language_info": {
   "codemirror_mode": {
    "name": "ipython",
    "version": 3
   },
   "file_extension": ".py",
   "mimetype": "text/x-python",
   "name": "python",
   "nbconvert_exporter": "python",
   "pygments_lexer": "ipython3",
   "version": "3.10.7"
  }
 },
 "nbformat": 4,
 "nbformat_minor": 2
}
