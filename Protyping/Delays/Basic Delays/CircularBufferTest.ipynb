{
 "cells": [
  {
   "cell_type": "code",
   "execution_count": 5,
   "metadata": {},
   "outputs": [
    {
     "name": "stdout",
     "output_type": "stream",
     "text": [
      "Min Value: -0.9484677314758301\n",
      "Max Value: 0.9998999834060669\n"
     ]
    }
   ],
   "source": [
    "from CircularBuffer import CircularBuffer\n",
    "from scipy.io import wavfile\n",
    "import numpy as np\n",
    "import sounddevice as sd\n",
    "import matplotlib.pyplot as plt\n",
    "from scipy import signal\n",
    "from scipy.fft import fftshift\n",
    "import sys\n",
    "\n",
    "sys.path.append('/Users/kevinbrennan/Desktop/Final Project/Python Tests/Reverb (Python)/Comb Filter Reverberator')\n",
    "\n",
    "#KYW inst\n",
    "fs, data = wavfile.read('/Users/kevinbrennan/Desktop/Final Project/Music-Technology-Final-Project/Sound Examples/KYW Inst.wav')\n",
    "#ATF Drums\n",
    "#fs, data = wavfile.read('/Users/kevinbrennan/Desktop/Final Project/Music-Technology-Final-Project/Sound Examples/Around the fur drums.wav')\n",
    "\n",
    "# Get the bit depth of the audio data (assumes audio_data is a NumPy array)\n",
    "bit_depth = data.dtype.itemsize * 8\n",
    "\n",
    "# Calculate the scaling factor for normalization\n",
    "scaling_factor = 2 ** (bit_depth - 1)  # For signed audio\n",
    "\n",
    "# Convert audio data to floating-point values and normalize\n",
    "data = data.astype(np.float32) / scaling_factor\n",
    "\n",
    "# Verify that the data is now in the range -1 to 1\n",
    "print(f\"Min Value: {np.min(data)}\")\n",
    "print(f\"Max Value: {np.max(data)}\")"
   ]
  },
  {
   "cell_type": "code",
   "execution_count": 6,
   "metadata": {},
   "outputs": [],
   "source": [
    "delay_ms = 15 #Delay time in ms\n",
    "wet_amt = 0.5 #Wet amount (0 -> 1)\n",
    "\n",
    "# Delay time in samples for creating buffer\n",
    "delaySamps = (int)((delay_ms/1000) * fs)\n",
    "\n",
    "# Creating Left and Right buffers\n",
    "audio_bufferL = CircularBuffer(delaySamps)\n",
    "audio_bufferR = CircularBuffer(delaySamps)\n"
   ]
  },
  {
   "cell_type": "code",
   "execution_count": 7,
   "metadata": {},
   "outputs": [],
   "source": [
    "# Audio output array\n",
    "audio_out = np.zeros((len(data) + delaySamps, 2))\n",
    "\n",
    "# Processing Loop\n",
    "for i in range(len(audio_out)):\n",
    "    # Take next wet sample from buffer\n",
    "    delayedL = audio_bufferL.get_sample_from_buffer()\n",
    "    delayedR = audio_bufferR.get_sample_from_buffer()\n",
    "    \n",
    "    # Push next dry sample to buffer (if there are dry samples left)\n",
    "    if(i < len(data)):\n",
    "        audio_bufferL.push_sample_to_buffer(data[i, 0])\n",
    "        audio_bufferR.push_sample_to_buffer(data[i, 1])\n",
    "\n",
    "    # Combine with dry signal and put in output array\n",
    "    audio_out[i, 0] = (wet_amt * delayedL) \n",
    "    audio_out[i, 1] = (wet_amt * delayedR) \n",
    "    # Include dry if there is dry left\n",
    "    if(i < len(data)):\n",
    "        audio_out[i, 0] += ((1 - wet_amt) * data[i, 0])\n",
    "        audio_out[i, 1] += ((1 - wet_amt) * data[i, 1])\n",
    "\n"
   ]
  },
  {
   "cell_type": "code",
   "execution_count": 8,
   "metadata": {},
   "outputs": [],
   "source": [
    "sd.play(audio_out, fs)"
   ]
  }
 ],
 "metadata": {
  "kernelspec": {
   "display_name": "Python 3",
   "language": "python",
   "name": "python3"
  },
  "language_info": {
   "codemirror_mode": {
    "name": "ipython",
    "version": 3
   },
   "file_extension": ".py",
   "mimetype": "text/x-python",
   "name": "python",
   "nbconvert_exporter": "python",
   "pygments_lexer": "ipython3",
   "version": "3.10.7"
  }
 },
 "nbformat": 4,
 "nbformat_minor": 2
}
