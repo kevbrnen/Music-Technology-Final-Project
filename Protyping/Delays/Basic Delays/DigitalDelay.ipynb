{
 "cells": [
  {
   "cell_type": "code",
   "execution_count": 19,
   "metadata": {},
   "outputs": [
    {
     "name": "stdout",
     "output_type": "stream",
     "text": [
      "Min Value: -1.0\n",
      "Max Value: 0.999969482421875\n"
     ]
    }
   ],
   "source": [
    "from CircularBuffer import CircularBuffer\n",
    "from CircularBuffer import StereoDelay\n",
    "from scipy.io import wavfile\n",
    "import numpy as np\n",
    "import sounddevice as sd\n",
    "import matplotlib.pyplot as plt\n",
    "from scipy import signal\n",
    "from scipy.fft import fftshift\n",
    "import soundfile as sf\n",
    "\n",
    "#KYW inst\n",
    "#fs, data = wavfile.read('/Users/kevinbrennan/Desktop/Final Project/Music-Technology-Final-Project/Sound Examples/KYW Inst.wav')\n",
    "#ATF Drums\n",
    "fs, data = wavfile.read('/Users/kevinbrennan/Desktop/Final Project/Music-Technology-Final-Project/Sound Examples/Around the fur drums.wav')\n",
    "\n",
    "# Get the bit depth of the audio data (assumes audio_data is a NumPy array)\n",
    "bit_depth = data.dtype.itemsize * 8\n",
    "\n",
    "# Calculate the scaling factor for normalization\n",
    "scaling_factor = 2 ** (bit_depth - 1)  # For signed audio\n",
    "\n",
    "# Convert audio data to floating-point values and normalize\n",
    "data = data.astype(np.float32) / scaling_factor\n",
    "\n",
    "# Verify that the data is now in the range -1 to 1\n",
    "print(f\"Min Value: {np.min(data)}\")\n",
    "print(f\"Max Value: {np.max(data)}\")"
   ]
  },
  {
   "cell_type": "code",
   "execution_count": 20,
   "metadata": {},
   "outputs": [],
   "source": [
    "#### Stereo Delay ####\n",
    "\n",
    "delay_ms = 80 #Delay time in ms\n",
    "wet_amt = 0.5 #Wet amount (0 -> 1)\n",
    "fdbk_amt = 0.4 #Feedback amount (0 -> 1)\n",
    "\n",
    "# Delay time in samples for creating buffer\n",
    "delaySamps = ((delay_ms/1000) * fs)\n",
    "\n",
    "# Stereo buffer setup with differing delay amounts for each side\n",
    "stereoBuffer = StereoDelay(delaySamps, delaySamps+100)"
   ]
  },
  {
   "cell_type": "code",
   "execution_count": 21,
   "metadata": {},
   "outputs": [],
   "source": [
    "# Audio output array\n",
    "stereo_audio_out = np.zeros((len(data) + stereoBuffer.buffer_maxLen(), 2))\n",
    "\n",
    "# Processing Loop\n",
    "for i in range(len(stereo_audio_out)):\n",
    "    # Take next wet sample from buffer\n",
    "    delayed_s = stereoBuffer.get_samples_from_buffer()\n",
    "\n",
    "    feedbackSamps = np.multiply(delayed_s, fdbk_amt)\n",
    "    \n",
    "    # Push next dry sample to buffer (if there are dry samples left)\n",
    "    if(i < len(data)):\n",
    "        stereoBuffer.push_samples_to_buffer((data[i] + feedbackSamps))\n",
    "\n",
    "    # Combine with dry signal and put in output array\n",
    "    stereo_audio_out[i] = np.multiply(wet_amt,delayed_s)\n",
    "\n",
    "    # Include dry if there is dry left\n",
    "    if(i < len(data)):\n",
    "        stereo_audio_out[i] += np.multiply((1 - wet_amt), data[i])\n"
   ]
  },
  {
   "cell_type": "code",
   "execution_count": 22,
   "metadata": {},
   "outputs": [],
   "source": [
    "sd.play(stereo_audio_out, fs)"
   ]
  },
  {
   "cell_type": "code",
   "execution_count": 23,
   "metadata": {},
   "outputs": [],
   "source": [
    "#Write to wav file\n",
    "#sf.write('Delay_ATF.wav', stereo_audio_out, fs)"
   ]
  }
 ],
 "metadata": {
  "kernelspec": {
   "display_name": "Python 3",
   "language": "python",
   "name": "python3"
  },
  "language_info": {
   "codemirror_mode": {
    "name": "ipython",
    "version": 3
   },
   "file_extension": ".py",
   "mimetype": "text/x-python",
   "name": "python",
   "nbconvert_exporter": "python",
   "pygments_lexer": "ipython3",
   "version": "3.10.7"
  }
 },
 "nbformat": 4,
 "nbformat_minor": 2
}
