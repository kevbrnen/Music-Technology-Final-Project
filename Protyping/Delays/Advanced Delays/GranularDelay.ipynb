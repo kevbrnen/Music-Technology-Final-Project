{
 "cells": [
  {
   "cell_type": "code",
   "execution_count": 1,
   "metadata": {},
   "outputs": [
    {
     "name": "stdout",
     "output_type": "stream",
     "text": [
      "Min Value: -0.9484677314758301\n",
      "Max Value: 0.9998999834060669\n"
     ]
    }
   ],
   "source": [
    "from CircularBuffer import CircularBuffer\n",
    "from CircularBuffer import StereoDelay\n",
    "from scipy.io import wavfile\n",
    "import numpy as np\n",
    "import sounddevice as sd\n",
    "import matplotlib.pyplot as plt\n",
    "from scipy import signal\n",
    "from scipy.fft import fftshift\n",
    "import soundfile as sf\n",
    "\n",
    "#KYW inst\n",
    "fs, data = wavfile.read('/Users/kevinbrennan/Desktop/Final_Project/Music-Technology-Final-Project/Sound Examples/KYW Inst.wav')\n",
    "#ATF Drums\n",
    "#fs, data = wavfile.read('/Users/kevinbrennan/Desktop/Final_Project/Music-Technology-Final-Project/Sound Examples/Around the fur drums.wav')\n",
    "\n",
    "# Get the bit depth of the audio data (assumes audio_data is a NumPy array)\n",
    "bit_depth = data.dtype.itemsize * 8\n",
    "\n",
    "# Calculate the scaling factor for normalization\n",
    "scaling_factor = 2 ** (bit_depth - 1)  # For signed audio\n",
    "\n",
    "# Convert audio data to floating-point values and normalize\n",
    "data = data.astype(np.float32) / scaling_factor\n",
    "\n",
    "# Verify that the data is now in the range -1 to 1\n",
    "print(f\"Min Value: {np.min(data)}\")\n",
    "print(f\"Max Value: {np.max(data)}\")"
   ]
  },
  {
   "cell_type": "code",
   "execution_count": null,
   "metadata": {},
   "outputs": [],
   "source": []
  }
 ],
 "metadata": {
  "kernelspec": {
   "display_name": "Python 3",
   "language": "python",
   "name": "python3"
  },
  "language_info": {
   "codemirror_mode": {
    "name": "ipython",
    "version": 3
   },
   "file_extension": ".py",
   "mimetype": "text/x-python",
   "name": "python",
   "nbconvert_exporter": "python",
   "pygments_lexer": "ipython3",
   "version": "3.10.7"
  }
 },
 "nbformat": 4,
 "nbformat_minor": 2
}
