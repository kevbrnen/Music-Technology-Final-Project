{
 "cells": [
  {
   "cell_type": "markdown",
   "metadata": {},
   "source": [
    "## Moorers Reverb\n",
    "Similar to Schroeders Reverb, except Comb filters used are replaced with LPF comb filters and only one APF is used"
   ]
  },
  {
   "cell_type": "code",
   "execution_count": 1,
   "metadata": {
    "metadata": {}
   },
   "outputs": [
    {
     "name": "stdout",
     "output_type": "stream",
     "text": [
      "Min Value: -0.9484677314758301\n",
      "Max Value: 0.9998999834060669\n"
     ]
    }
   ],
   "source": [
    "# Setup\n",
    "from scipy.io import wavfile\n",
    "import numpy as np\n",
    "import sounddevice as sd\n",
    "import soundfile as sf\n",
    "import matplotlib.pyplot as plt\n",
    "from scipy import signal\n",
    "import sys\n",
    "import requests\n",
    "import io\n",
    "from CircularBuffer import CircularBuffer, StereoDelay\n",
    "from scipy.signal.windows import hann\n",
    "from scipy.fft import fft, fftfreq, rfft, rfftfreq, ifft, irfft\n",
    "\n",
    "# URL of the raw wave file on GitHub\n",
    "# un-comment the URL of the file you want to use\n",
    "# ATF Drums\n",
    "#github_url = \"https://raw.githubusercontent.com/kevbrnen/Music-Technology-Final-Project/main/Sound%20Examples/Testing_Files/Around%20the%20fur%20drums.wav\"\n",
    "# KYW inst\n",
    "github_url = \"https://raw.githubusercontent.com/kevbrnen/Music-Technology-Final-Project/main/Sound%20Examples/Testing_Files/KYW%20Inst.wav\"\n",
    "\n",
    "# Fetch the wave file from GitHub\n",
    "response = requests.get(github_url)\n",
    "\n",
    "# Check if the request was successful\n",
    "if response.status_code == 200:\n",
    "    # Read the wave data from the response content\n",
    "    wave_data = io.BytesIO(response.content)\n",
    "    \n",
    "    # Read the wave file \n",
    "    fs, data = wavfile.read(wave_data)\n",
    "    \n",
    "else:\n",
    "    print(\"Failed to fetch the wave file from GitHub\")\n",
    "\n",
    "\n",
    "# Get the bit depth of the audio data (assumes audio_data is a NumPy array)\n",
    "bit_depth = data.dtype.itemsize * 8\n",
    "\n",
    "# Calculate the scaling factor for normalization\n",
    "scaling_factor = 2 ** (bit_depth - 1)  # For signed audio\n",
    "\n",
    "# Convert audio data to floating-point values and normalize\n",
    "data = data.astype(np.float32) / scaling_factor\n",
    "\n",
    "# Verify that the data is now in the range -1 to 1\n",
    "print(f\"Min Value: {np.min(data)}\")\n",
    "print(f\"Max Value: {np.max(data)}\")\n"
   ]
  },
  {
   "cell_type": "code",
   "execution_count": 2,
   "metadata": {
    "metadata": {}
   },
   "outputs": [],
   "source": [
    "# Setting up IIR Lowpass filter\n",
    "# Can probably be replaced with multiple with different cutoffs for better effect, but just \n",
    "# Using one for now to test\n",
    "fc = 9000\n",
    "b, a = signal.iirfilter(3, fc, btype='lowpass', ftype='butter', output='ba', fs=fs)"
   ]
  },
  {
   "cell_type": "code",
   "execution_count": 3,
   "metadata": {
    "metadata": {}
   },
   "outputs": [],
   "source": [
    "#Comb filters\n",
    "N = 6\n",
    "parallel_delayLines = [None] * N\n",
    "gains = [0.46, 0.47, 0.475, 0.48, 0.49, 0.5]\n",
    "delays = [0.050, 0.056, 0.061, 0.068, 0.072, 0.078]\n",
    "output_comb = np.zeros((len(data), 2))\n",
    "\n",
    "# APF 1\n",
    "delayTime1 = 0.006\n",
    "delaySamples1 = delayTime1 * fs\n",
    "g1 = 0.7\n",
    "delayLine1 = StereoDelay(delaySamples1, delaySamples1)\n",
    "output_apf1 = np.zeros((len(data), 2))\n",
    "\n",
    "# initialise delay lines\n",
    "for i in range(N):\n",
    "    parallel_delayLines[i] = StereoDelay((delays[i] * fs), (delays[i] * fs))\n",
    "\n",
    "\n",
    "\n",
    "for j in range(N):\n",
    "    for i in range(len(data)):\n",
    "        #Comb Filter\n",
    "        delayed = 0\n",
    "\n",
    "        delayed = parallel_delayLines[j].get_samples_from_buffer()\n",
    "\n",
    "        output_comb[i] += delayed\n",
    "\n",
    "        delayed = signal.lfilter(b, a, delayed)\n",
    "\n",
    "        delayed = np.multiply(delayed, gains[j])\n",
    "\n",
    "        parallel_delayLines[j].push_samples_to_buffer(delayed + data[i])\n",
    "\n",
    "\n",
    "for i in range(len(data)):\n",
    "    #APF1\n",
    "    delayed1 = delayLine1.get_samples_from_buffer()\n",
    "\n",
    "    delayLine1.push_samples_to_buffer(output_comb[i] + np.multiply(delayed1, g1))\n",
    "\n",
    "    output_apf1[i] = (-g1 * output_comb[i]) + np.multiply((1 - pow(g1,2)), delayed1)\n",
    "\n",
    "\n"
   ]
  },
  {
   "cell_type": "code",
   "execution_count": 4,
   "metadata": {
    "metadata": {}
   },
   "outputs": [],
   "source": [
    "#Wet/Dry\n",
    "wetAmt = 0.7\n",
    "\n",
    "output_apf1 = np.multiply((1-wetAmt), data) + np.multiply((wetAmt), output_apf1)"
   ]
  },
  {
   "cell_type": "code",
   "execution_count": 5,
   "metadata": {},
   "outputs": [
    {
     "data": {
      "text/plain": [
       "[<matplotlib.lines.Line2D at 0x1374bcc70>]"
      ]
     },
     "execution_count": 5,
     "metadata": {},
     "output_type": "execute_result"
    },
    {
     "data": {
      "image/png": "[encoded data removed]",
      "text/plain": [
       "<Figure size 640x480 with 1 Axes>"
      ]
     },
     "metadata": {},
     "output_type": "display_data"
    }
   ],
   "source": [
    "# Apply windowing\n",
    "window = hann(len(data))\n",
    "original_signal = data[:,0] * window\n",
    "filtered_signal = output_apf1[:,0] * window\n",
    "\n",
    "original_spectrum = fft(original_signal)\n",
    "filtered_spectrum = fft(filtered_signal)\n",
    "\n",
    "epsilon = 1e-10\n",
    "\n",
    "impulse_response_spectrum = filtered_spectrum/(original_spectrum + epsilon)\n",
    "\n",
    "impulse_response = np.real(ifft(impulse_response_spectrum))\n",
    "\n",
    "plt.plot(impulse_response)"
   ]
  },
  {
   "cell_type": "code",
   "execution_count": 6,
   "metadata": {
    "metadata": {}
   },
   "outputs": [],
   "source": [
    "#Normalisation\n",
    "max_amplitude = np.max(np.abs(output_apf1))\n",
    "normalized_audio = output_apf1 / max_amplitude"
   ]
  },
  {
   "cell_type": "code",
   "execution_count": 7,
   "metadata": {
    "metadata": {}
   },
   "outputs": [],
   "source": [
    "sd.play(normalized_audio, fs)"
   ]
  },
  {
   "cell_type": "code",
   "execution_count": 8,
   "metadata": {},
   "outputs": [],
   "source": [
    "#sf.write(\"MoorersKYW.wav\", normalized_audio, fs)"
   ]
  }
 ],
 "metadata": {
  "kernelspec": {
   "display_name": "Python 3",
   "language": "python",
   "name": "python3"
  },
  "language_info": {
   "codemirror_mode": {
    "name": "ipython",
    "version": 3
   },
   "file_extension": ".py",
   "mimetype": "text/x-python",
   "name": "python",
   "nbconvert_exporter": "python",
   "pygments_lexer": "ipython3",
   "version": "3.10.7"
  }
 },
 "nbformat": 4,
 "nbformat_minor": 2
}
