{
 "cells": [
  {
   "cell_type": "code",
   "execution_count": null,
   "metadata": {},
   "outputs": [],
   "source": [
    "# Setup\n",
    "from scipy.io import wavfile\n",
    "import numpy as np\n",
    "import sounddevice as sd\n",
    "import soundfile as sf\n",
    "import matplotlib.pyplot as plt\n",
    "from scipy import signal\n",
    "import sys\n",
    "import requests\n",
    "import io\n",
    "\n",
    "# URL of the raw wave file on GitHub\n",
    "# un-comment the URL of the file you want to use\n",
    "# ATF Drums\n",
    "#github_url = \"https://raw.githubusercontent.com/kevbrnen/Music-Technology-Final-Project/main/Sound%20Examples/Testing_Files/Around%20the%20fur%20drums.wav\"\n",
    "# KYW inst\n",
    "github_url = \"https://raw.githubusercontent.com/kevbrnen/Music-Technology-Final-Project/main/Sound%20Examples/Testing_Files/KYW%20Inst.wav\"\n",
    "\n",
    "# Fetch the wave file from GitHub\n",
    "response = requests.get(github_url)\n",
    "\n",
    "# Check if the request was successful\n",
    "if response.status_code == 200:\n",
    "    # Read the wave data from the response content\n",
    "    wave_data = io.BytesIO(response.content)\n",
    "    \n",
    "    # Read the wave file \n",
    "    fs, data = wavfile.read(wave_data)\n",
    "    \n",
    "else:\n",
    "    print(\"Failed to fetch the wave file from GitHub\")\n",
    "\n",
    "\n",
    "# Get the bit depth of the audio data (assumes audio_data is a NumPy array)\n",
    "bit_depth = data.dtype.itemsize * 8\n",
    "\n",
    "# Calculate the scaling factor for normalization\n",
    "scaling_factor = 2 ** (bit_depth - 1)  # For signed audio\n",
    "\n",
    "# Convert audio data to floating-point values and normalize\n",
    "data = data.astype(np.float32) / scaling_factor\n",
    "\n",
    "# Verify that the data is now in the range -1 to 1\n",
    "print(f\"Min Value: {np.min(data)}\")\n",
    "print(f\"Max Value: {np.max(data)}\")"
   ]
  }
 ],
 "metadata": {
  "language_info": {
   "name": "python"
  }
 },
 "nbformat": 4,
 "nbformat_minor": 2
}
