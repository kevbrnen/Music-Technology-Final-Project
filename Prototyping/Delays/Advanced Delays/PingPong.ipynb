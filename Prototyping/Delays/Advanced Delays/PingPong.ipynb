{
 "cells": [
  {
   "cell_type": "markdown",
   "metadata": {},
   "source": [
    "# Ping Pong Delay\n"
   ]
  },
  {
   "cell_type": "code",
   "execution_count": 5,
   "metadata": {},
   "outputs": [
    {
     "name": "stdout",
     "output_type": "stream",
     "text": [
      "Min Value: -0.9484677314758301\n",
      "Max Value: 0.9998999834060669\n"
     ]
    }
   ],
   "source": [
    "# Setup\n",
    "from scipy.io import wavfile\n",
    "import numpy as np\n",
    "import sounddevice as sd\n",
    "import soundfile as sf\n",
    "import matplotlib.pyplot as plt\n",
    "from scipy import signal\n",
    "import sys\n",
    "import requests\n",
    "import io\n",
    "from CircularBuffer import CircularBuffer\n",
    "\n",
    "# URL of the raw wave file on GitHub\n",
    "# un-comment the URL of the file you want to use\n",
    "# ATF Drums\n",
    "#github_url = \"https://raw.githubusercontent.com/kevbrnen/Music-Technology-Final-Project/main/Sound%20Examples/Testing_Files/Around%20the%20fur%20drums.wav\"\n",
    "# KYW inst\n",
    "github_url = \"https://raw.githubusercontent.com/kevbrnen/Music-Technology-Final-Project/main/Sound%20Examples/Testing_Files/KYW%20Inst.wav\"\n",
    "\n",
    "# Fetch the wave file from GitHub\n",
    "response = requests.get(github_url)\n",
    "\n",
    "# Check if the request was successful\n",
    "if response.status_code == 200:\n",
    "    # Read the wave data from the response content\n",
    "    wave_data = io.BytesIO(response.content)\n",
    "    \n",
    "    # Read the wave file \n",
    "    fs, data = wavfile.read(wave_data)\n",
    "    \n",
    "else:\n",
    "    print(\"Failed to fetch the wave file from GitHub\")\n",
    "\n",
    "\n",
    "# Get the bit depth of the audio data (assumes audio_data is a NumPy array)\n",
    "bit_depth = data.dtype.itemsize * 8\n",
    "\n",
    "# Calculate the scaling factor for normalization\n",
    "scaling_factor = 2 ** (bit_depth - 1)  # For signed audio\n",
    "\n",
    "# Convert audio data to floating-point values and normalize\n",
    "data = data.astype(np.float32) / scaling_factor\n",
    "\n",
    "# Verify that the data is now in the range -1 to 1\n",
    "print(f\"Min Value: {np.min(data)}\")\n",
    "print(f\"Max Value: {np.max(data)}\")"
   ]
  },
  {
   "cell_type": "code",
   "execution_count": 2,
   "metadata": {},
   "outputs": [],
   "source": [
    "sd.play(data, fs)"
   ]
  },
  {
   "cell_type": "code",
   "execution_count": 6,
   "metadata": {},
   "outputs": [],
   "source": [
    "# Setting up delay lines and parameters\n",
    "wet_amt = 0.7\n",
    "delay_ms = 100\n",
    "\n",
    "delaySamps = ((fs/1000) * delay_ms)\n",
    "\n",
    "Lbuffer = CircularBuffer(delaySamps)\n",
    "Rbuffer = CircularBuffer(delaySamps)\n",
    "\n",
    "fdbk_amt = 0.8"
   ]
  },
  {
   "cell_type": "code",
   "execution_count": 7,
   "metadata": {},
   "outputs": [],
   "source": [
    "# Processing Loop\n",
    "output = np.zeros((len(data), 2))\n",
    "\n",
    "for i in range(len(output)):\n",
    "    delayedL = Lbuffer.get_sample_from_buffer()\n",
    "    delayedR = Rbuffer.get_sample_from_buffer()\n",
    "\n",
    "    #Pushing the newest right channel sample to the left buffer and vice versa\n",
    "    Lbuffer.push_sample_to_buffer((delayedR * fdbk_amt) + data[i, 1])\n",
    "    Rbuffer.push_sample_to_buffer((delayedL * fdbk_amt) + data[i, 0])\n",
    "\n",
    "    output[i,0] = ((1-wet_amt) * data[i,0]) + ((wet_amt) * delayedL)\n",
    "    output[i,1] = ((1-wet_amt) * data[i,1]) + ((wet_amt) * delayedR)\n",
    "\n",
    "#Normalisation\n",
    "max_amplitude = np.max(np.abs(output))\n",
    "normalized_audio = output / max_amplitude"
   ]
  },
  {
   "cell_type": "code",
   "execution_count": 23,
   "metadata": {},
   "outputs": [],
   "source": [
    "sd.play(normalized_audio, fs)"
   ]
  },
  {
   "cell_type": "code",
   "execution_count": null,
   "metadata": {},
   "outputs": [],
   "source": []
  }
 ],
 "metadata": {
  "kernelspec": {
   "display_name": "Python 3",
   "language": "python",
   "name": "python3"
  },
  "language_info": {
   "codemirror_mode": {
    "name": "ipython",
    "version": 3
   },
   "file_extension": ".py",
   "mimetype": "text/x-python",
   "name": "python",
   "nbconvert_exporter": "python",
   "pygments_lexer": "ipython3",
   "version": "3.10.7"
  }
 },
 "nbformat": 4,
 "nbformat_minor": 2
}
